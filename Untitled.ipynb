{
 "cells": [
  {
   "cell_type": "code",
   "execution_count": 45,
   "id": "f471e640",
   "metadata": {},
   "outputs": [
    {
     "name": "stdout",
     "output_type": "stream",
     "text": [
      "Collecting lizard\n",
      "  Downloading lizard-1.17.10-py2.py3-none-any.whl (66 kB)\n",
      "\u001b[K     |████████████████████████████████| 66 kB 1.2 MB/s eta 0:00:01\n",
      "\u001b[?25hInstalling collected packages: lizard\n",
      "Successfully installed lizard-1.17.10\n"
     ]
    }
   ],
   "source": [
    "!pip install lizard"
   ]
  },
  {
   "cell_type": "code",
   "execution_count": 46,
   "id": "1f68b597",
   "metadata": {},
   "outputs": [],
   "source": [
    "import pandas as pd\n",
    "import numpy as np\n",
    "import json\n",
    "import hashlib\n",
    "import os\n",
    "import lizard"
   ]
  },
  {
   "cell_type": "code",
   "execution_count": 8,
   "id": "8406d5a2",
   "metadata": {
    "collapsed": true
   },
   "outputs": [
    {
     "data": {
      "text/plain": [
       "<git.repo.base.Repo '/home/amirmahdi/Desktop/a/.git'>"
      ]
     },
     "execution_count": 8,
     "metadata": {},
     "output_type": "execute_result"
    }
   ],
   "source": [
    "from git import Repo\n",
    "repo_url = \"https://github.com/\"\n",
    "dir_to_save = \"/home/amirmahdi/Documents/Uni/Dr Ezati/Data Challenge Track/\"\n",
    "Repo.clone_from(os.path.join(repo_url, ), os.path.join(dir_to_save, ))"
   ]
  },
  {
   "cell_type": "code",
   "execution_count": 13,
   "id": "1dc8837e",
   "metadata": {},
   "outputs": [],
   "source": [
    "hash_dict = {}\n",
    "filesname = []\n",
    "df = pd.DataFrame(columns=[\"ID\", \"itr_to_stds_avrg\", \"itr_to_stds_std\"])"
   ]
  },
  {
   "cell_type": "markdown",
   "id": "3736ee1c",
   "metadata": {},
   "source": [
    "### Making a list of files name and assigning a hash value to them. This hash value is going to be used as ID for each microbenchmark:"
   ]
  },
  {
   "cell_type": "code",
   "execution_count": 14,
   "id": "9f4def12",
   "metadata": {},
   "outputs": [],
   "source": [
    "directory = \"/home/amirmahdi/Documents/Uni/Dr Ezati/Data Challenge Track/Code/changepoints\"\n",
    "\n",
    "for filename in os.listdir(directory):\n",
    "    f = os.path.join(directory, filename)\n",
    "    \n",
    "    if os.path.isfile(f):\n",
    "        hash_dict[ hashlib.sha1(str.encode(filename)).hexdigest() ] = filename \n",
    "        filesname.append(filename)"
   ]
  },
  {
   "cell_type": "markdown",
   "id": "114684f5",
   "metadata": {},
   "source": [
    "### Finfing the last change point of each of ten forks in each benchmark and computing the average and standard deviation of them:"
   ]
  },
  {
   "cell_type": "code",
   "execution_count": 15,
   "id": "148340fb",
   "metadata": {
    "scrolled": true
   },
   "outputs": [],
   "source": [
    "directory = \"/home/amirmahdi/Documents/Uni/Dr Ezati/Data Challenge Track/Code/changepoints\"\n",
    "\n",
    "for filename in filesname:                     #For loop over each json file of changepoints\n",
    "    f = os.path.join(directory, filename)\n",
    "    \n",
    "    if os.path.isfile(f):\n",
    "        j_file = open(f)\n",
    "        \n",
    "        data = json.load(j_file)\n",
    "        last_changepoints = []                 # it should be empty for each seperate benchmark...\n",
    "        number_of_change_points=[]\n",
    "        \n",
    "        for fork_data in data:   #For loop over forks in the json file and capturing last change point of each fork\n",
    "            number_of_change_points.append(len(fork_data)-1)\n",
    "            \n",
    "            if len(fork_data)==1:\n",
    "                last_changepoints.append(0)     #if the fork lenght is 1, there is no change point\n",
    "            else:\n",
    "                last_changepoints.append(fork_data[-2])\n",
    "        \n",
    "        last_changepoint_avrg = np.mean(last_changepoints)  #computing average\n",
    "        last_changepoint_std = np.std(last_changepoints)    #computing standard deviation\n",
    "        number_of_change_points_avrg = np.mean(number_of_change_points)\n",
    "        \n",
    "        ID = hashlib.sha1(str.encode(filename)).hexdigest()                    #computing the ID of the benchmark\n",
    "        new_row = pd.Series({\"ID\":ID, \"itr_to_stds_avrg\":last_changepoint_avrg, \n",
    "                                \"itr_to_stds_std\":last_changepoint_std, \n",
    "                             \"Num_of_change_points_avrg\":number_of_change_points_avrg})  #creating new row of data\n",
    "        df = pd.concat([df, new_row.to_frame().T], ignore_index=True)          #adding the data to the dataframe"
   ]
  },
  {
   "cell_type": "code",
   "execution_count": 5,
   "id": "dc1015cb",
   "metadata": {
    "collapsed": true
   },
   "outputs": [
    {
     "data": {
      "text/html": [
       "<div>\n",
       "<style scoped>\n",
       "    .dataframe tbody tr th:only-of-type {\n",
       "        vertical-align: middle;\n",
       "    }\n",
       "\n",
       "    .dataframe tbody tr th {\n",
       "        vertical-align: top;\n",
       "    }\n",
       "\n",
       "    .dataframe thead th {\n",
       "        text-align: right;\n",
       "    }\n",
       "</style>\n",
       "<table border=\"1\" class=\"dataframe\">\n",
       "  <thead>\n",
       "    <tr style=\"text-align: right;\">\n",
       "      <th></th>\n",
       "      <th>ID</th>\n",
       "      <th>itr_to_stds_avrg</th>\n",
       "      <th>itr_to_stds_std</th>\n",
       "      <th>Num_of_change_points_avrg</th>\n",
       "    </tr>\n",
       "  </thead>\n",
       "  <tbody>\n",
       "    <tr>\n",
       "      <th>0</th>\n",
       "      <td>91f071f1f69bf48297887879cf5e5613552a29bc</td>\n",
       "      <td>1740.1</td>\n",
       "      <td>1021.197968</td>\n",
       "      <td>3.1</td>\n",
       "    </tr>\n",
       "    <tr>\n",
       "      <th>1</th>\n",
       "      <td>fb2459909444ecbdf72e47a11179359e56778dcd</td>\n",
       "      <td>196.6</td>\n",
       "      <td>326.93247</td>\n",
       "      <td>1.3</td>\n",
       "    </tr>\n",
       "    <tr>\n",
       "      <th>2</th>\n",
       "      <td>1c51969ca9fc7c1b5a7ac533bfa76899ac30ed88</td>\n",
       "      <td>363.5</td>\n",
       "      <td>396.638689</td>\n",
       "      <td>1.8</td>\n",
       "    </tr>\n",
       "    <tr>\n",
       "      <th>3</th>\n",
       "      <td>2b3a09d375526c8e9c7641660de34577306fb84e</td>\n",
       "      <td>2256.7</td>\n",
       "      <td>982.812602</td>\n",
       "      <td>7.5</td>\n",
       "    </tr>\n",
       "    <tr>\n",
       "      <th>4</th>\n",
       "      <td>ca5d32819509b08c929db359c6f8dddad84e62f4</td>\n",
       "      <td>1628.1</td>\n",
       "      <td>734.577491</td>\n",
       "      <td>3.5</td>\n",
       "    </tr>\n",
       "    <tr>\n",
       "      <th>...</th>\n",
       "      <td>...</td>\n",
       "      <td>...</td>\n",
       "      <td>...</td>\n",
       "      <td>...</td>\n",
       "    </tr>\n",
       "    <tr>\n",
       "      <th>581</th>\n",
       "      <td>1a3b2d7b3a6ece03ec9db59ba9385a7199cace1b</td>\n",
       "      <td>1124.9</td>\n",
       "      <td>1081.148783</td>\n",
       "      <td>2.7</td>\n",
       "    </tr>\n",
       "    <tr>\n",
       "      <th>582</th>\n",
       "      <td>0b0eb41a2e416dd93cf156632edab78e7227fab6</td>\n",
       "      <td>1833.0</td>\n",
       "      <td>913.468883</td>\n",
       "      <td>5.3</td>\n",
       "    </tr>\n",
       "    <tr>\n",
       "      <th>583</th>\n",
       "      <td>8ac7776547858abdceb1e0b055d762870adcc23a</td>\n",
       "      <td>582.0</td>\n",
       "      <td>0.0</td>\n",
       "      <td>3.0</td>\n",
       "    </tr>\n",
       "    <tr>\n",
       "      <th>584</th>\n",
       "      <td>ce0f7ccdb51b4a6800adab9c0668907d4665401d</td>\n",
       "      <td>1113.2</td>\n",
       "      <td>824.752423</td>\n",
       "      <td>1.9</td>\n",
       "    </tr>\n",
       "    <tr>\n",
       "      <th>585</th>\n",
       "      <td>ef42f5525ff10a18c5509dce50754018de43f532</td>\n",
       "      <td>2739.7</td>\n",
       "      <td>256.656989</td>\n",
       "      <td>11.0</td>\n",
       "    </tr>\n",
       "  </tbody>\n",
       "</table>\n",
       "<p>586 rows × 4 columns</p>\n",
       "</div>"
      ],
      "text/plain": [
       "                                           ID itr_to_stds_avrg  \\\n",
       "0    91f071f1f69bf48297887879cf5e5613552a29bc           1740.1   \n",
       "1    fb2459909444ecbdf72e47a11179359e56778dcd            196.6   \n",
       "2    1c51969ca9fc7c1b5a7ac533bfa76899ac30ed88            363.5   \n",
       "3    2b3a09d375526c8e9c7641660de34577306fb84e           2256.7   \n",
       "4    ca5d32819509b08c929db359c6f8dddad84e62f4           1628.1   \n",
       "..                                        ...              ...   \n",
       "581  1a3b2d7b3a6ece03ec9db59ba9385a7199cace1b           1124.9   \n",
       "582  0b0eb41a2e416dd93cf156632edab78e7227fab6           1833.0   \n",
       "583  8ac7776547858abdceb1e0b055d762870adcc23a            582.0   \n",
       "584  ce0f7ccdb51b4a6800adab9c0668907d4665401d           1113.2   \n",
       "585  ef42f5525ff10a18c5509dce50754018de43f532           2739.7   \n",
       "\n",
       "    itr_to_stds_std Num_of_change_points_avrg  \n",
       "0       1021.197968                       3.1  \n",
       "1         326.93247                       1.3  \n",
       "2        396.638689                       1.8  \n",
       "3        982.812602                       7.5  \n",
       "4        734.577491                       3.5  \n",
       "..              ...                       ...  \n",
       "581     1081.148783                       2.7  \n",
       "582      913.468883                       5.3  \n",
       "583             0.0                       3.0  \n",
       "584      824.752423                       1.9  \n",
       "585      256.656989                      11.0  \n",
       "\n",
       "[586 rows x 4 columns]"
      ]
     },
     "execution_count": 5,
     "metadata": {},
     "output_type": "execute_result"
    }
   ],
   "source": [
    "df"
   ]
  },
  {
   "cell_type": "code",
   "execution_count": 16,
   "id": "b8251282",
   "metadata": {},
   "outputs": [],
   "source": [
    "df = df.set_index(\"ID\")"
   ]
  },
  {
   "cell_type": "code",
   "execution_count": 17,
   "id": "d039e9a5",
   "metadata": {},
   "outputs": [],
   "source": [
    "directory = \"/home/amirmahdi/Documents/Uni/Dr Ezati/Data Challenge Track/Code/timeseries\"\n",
    "\n",
    "for filename in filesname:\n",
    "    f = os.path.join(directory, filename)\n",
    "    \n",
    "    if os.path.isfile(f):\n",
    "        j_file = open(f)\n",
    "        timeseries_data = json.load(j_file)\n",
    "        \n",
    "        timeseries_df = pd.DataFrame(timeseries_data)\n",
    "        bench_timeseries__forks_avrg_df = timeseries_df.mean()\n",
    "        bench_timeseries_std = bench_timeseries__forks_avrg_df.std()\n",
    "        bench_timeseries_avrg = bench_timeseries__forks_avrg_df.mean()\n",
    "        \n",
    "        ID = hashlib.sha1(str.encode(filename)).hexdigest()\n",
    "        \n",
    "        df.at[ID, \"STD\"] = bench_timeseries_std\n",
    "        df.at[ID, \"AVRG\"] = bench_timeseries_avrg"
   ]
  },
  {
   "cell_type": "code",
   "execution_count": 10,
   "id": "f7fd39ae",
   "metadata": {},
   "outputs": [
    {
     "data": {
      "text/html": [
       "<div>\n",
       "<style scoped>\n",
       "    .dataframe tbody tr th:only-of-type {\n",
       "        vertical-align: middle;\n",
       "    }\n",
       "\n",
       "    .dataframe tbody tr th {\n",
       "        vertical-align: top;\n",
       "    }\n",
       "\n",
       "    .dataframe thead th {\n",
       "        text-align: right;\n",
       "    }\n",
       "</style>\n",
       "<table border=\"1\" class=\"dataframe\">\n",
       "  <thead>\n",
       "    <tr style=\"text-align: right;\">\n",
       "      <th></th>\n",
       "      <th>itr_to_stds_avrg</th>\n",
       "      <th>itr_to_stds_std</th>\n",
       "      <th>Num_of_change_points_avrg</th>\n",
       "      <th>STD</th>\n",
       "      <th>AVRG</th>\n",
       "    </tr>\n",
       "    <tr>\n",
       "      <th>ID</th>\n",
       "      <th></th>\n",
       "      <th></th>\n",
       "      <th></th>\n",
       "      <th></th>\n",
       "      <th></th>\n",
       "    </tr>\n",
       "  </thead>\n",
       "  <tbody>\n",
       "    <tr>\n",
       "      <th>91f071f1f69bf48297887879cf5e5613552a29bc</th>\n",
       "      <td>1740.1</td>\n",
       "      <td>1021.197968</td>\n",
       "      <td>3.1</td>\n",
       "      <td>6.510561e-08</td>\n",
       "      <td>1.869715e-07</td>\n",
       "    </tr>\n",
       "    <tr>\n",
       "      <th>fb2459909444ecbdf72e47a11179359e56778dcd</th>\n",
       "      <td>196.6</td>\n",
       "      <td>326.93247</td>\n",
       "      <td>1.3</td>\n",
       "      <td>6.980091e-09</td>\n",
       "      <td>1.831741e-07</td>\n",
       "    </tr>\n",
       "    <tr>\n",
       "      <th>1c51969ca9fc7c1b5a7ac533bfa76899ac30ed88</th>\n",
       "      <td>363.5</td>\n",
       "      <td>396.638689</td>\n",
       "      <td>1.8</td>\n",
       "      <td>1.043777e-08</td>\n",
       "      <td>8.916153e-08</td>\n",
       "    </tr>\n",
       "    <tr>\n",
       "      <th>2b3a09d375526c8e9c7641660de34577306fb84e</th>\n",
       "      <td>2256.7</td>\n",
       "      <td>982.812602</td>\n",
       "      <td>7.5</td>\n",
       "      <td>2.670392e-07</td>\n",
       "      <td>6.533268e-07</td>\n",
       "    </tr>\n",
       "    <tr>\n",
       "      <th>ca5d32819509b08c929db359c6f8dddad84e62f4</th>\n",
       "      <td>1628.1</td>\n",
       "      <td>734.577491</td>\n",
       "      <td>3.5</td>\n",
       "      <td>1.180394e-04</td>\n",
       "      <td>1.245521e-03</td>\n",
       "    </tr>\n",
       "    <tr>\n",
       "      <th>...</th>\n",
       "      <td>...</td>\n",
       "      <td>...</td>\n",
       "      <td>...</td>\n",
       "      <td>...</td>\n",
       "      <td>...</td>\n",
       "    </tr>\n",
       "    <tr>\n",
       "      <th>1a3b2d7b3a6ece03ec9db59ba9385a7199cace1b</th>\n",
       "      <td>1124.9</td>\n",
       "      <td>1081.148783</td>\n",
       "      <td>2.7</td>\n",
       "      <td>1.093954e-02</td>\n",
       "      <td>5.990179e-04</td>\n",
       "    </tr>\n",
       "    <tr>\n",
       "      <th>0b0eb41a2e416dd93cf156632edab78e7227fab6</th>\n",
       "      <td>1833.0</td>\n",
       "      <td>913.468883</td>\n",
       "      <td>5.3</td>\n",
       "      <td>1.698672e-07</td>\n",
       "      <td>2.915286e-07</td>\n",
       "    </tr>\n",
       "    <tr>\n",
       "      <th>8ac7776547858abdceb1e0b055d762870adcc23a</th>\n",
       "      <td>582.0</td>\n",
       "      <td>0.0</td>\n",
       "      <td>3.0</td>\n",
       "      <td>1.060187e-02</td>\n",
       "      <td>3.083067e-02</td>\n",
       "    </tr>\n",
       "    <tr>\n",
       "      <th>ce0f7ccdb51b4a6800adab9c0668907d4665401d</th>\n",
       "      <td>1113.2</td>\n",
       "      <td>824.752423</td>\n",
       "      <td>1.9</td>\n",
       "      <td>1.123134e-03</td>\n",
       "      <td>4.476492e-03</td>\n",
       "    </tr>\n",
       "    <tr>\n",
       "      <th>ef42f5525ff10a18c5509dce50754018de43f532</th>\n",
       "      <td>2739.7</td>\n",
       "      <td>256.656989</td>\n",
       "      <td>11.0</td>\n",
       "      <td>4.044299e-05</td>\n",
       "      <td>1.152575e-03</td>\n",
       "    </tr>\n",
       "  </tbody>\n",
       "</table>\n",
       "<p>586 rows × 5 columns</p>\n",
       "</div>"
      ],
      "text/plain": [
       "                                         itr_to_stds_avrg itr_to_stds_std  \\\n",
       "ID                                                                          \n",
       "91f071f1f69bf48297887879cf5e5613552a29bc           1740.1     1021.197968   \n",
       "fb2459909444ecbdf72e47a11179359e56778dcd            196.6       326.93247   \n",
       "1c51969ca9fc7c1b5a7ac533bfa76899ac30ed88            363.5      396.638689   \n",
       "2b3a09d375526c8e9c7641660de34577306fb84e           2256.7      982.812602   \n",
       "ca5d32819509b08c929db359c6f8dddad84e62f4           1628.1      734.577491   \n",
       "...                                                   ...             ...   \n",
       "1a3b2d7b3a6ece03ec9db59ba9385a7199cace1b           1124.9     1081.148783   \n",
       "0b0eb41a2e416dd93cf156632edab78e7227fab6           1833.0      913.468883   \n",
       "8ac7776547858abdceb1e0b055d762870adcc23a            582.0             0.0   \n",
       "ce0f7ccdb51b4a6800adab9c0668907d4665401d           1113.2      824.752423   \n",
       "ef42f5525ff10a18c5509dce50754018de43f532           2739.7      256.656989   \n",
       "\n",
       "                                         Num_of_change_points_avrg  \\\n",
       "ID                                                                   \n",
       "91f071f1f69bf48297887879cf5e5613552a29bc                       3.1   \n",
       "fb2459909444ecbdf72e47a11179359e56778dcd                       1.3   \n",
       "1c51969ca9fc7c1b5a7ac533bfa76899ac30ed88                       1.8   \n",
       "2b3a09d375526c8e9c7641660de34577306fb84e                       7.5   \n",
       "ca5d32819509b08c929db359c6f8dddad84e62f4                       3.5   \n",
       "...                                                            ...   \n",
       "1a3b2d7b3a6ece03ec9db59ba9385a7199cace1b                       2.7   \n",
       "0b0eb41a2e416dd93cf156632edab78e7227fab6                       5.3   \n",
       "8ac7776547858abdceb1e0b055d762870adcc23a                       3.0   \n",
       "ce0f7ccdb51b4a6800adab9c0668907d4665401d                       1.9   \n",
       "ef42f5525ff10a18c5509dce50754018de43f532                      11.0   \n",
       "\n",
       "                                                   STD          AVRG  \n",
       "ID                                                                    \n",
       "91f071f1f69bf48297887879cf5e5613552a29bc  6.510561e-08  1.869715e-07  \n",
       "fb2459909444ecbdf72e47a11179359e56778dcd  6.980091e-09  1.831741e-07  \n",
       "1c51969ca9fc7c1b5a7ac533bfa76899ac30ed88  1.043777e-08  8.916153e-08  \n",
       "2b3a09d375526c8e9c7641660de34577306fb84e  2.670392e-07  6.533268e-07  \n",
       "ca5d32819509b08c929db359c6f8dddad84e62f4  1.180394e-04  1.245521e-03  \n",
       "...                                                ...           ...  \n",
       "1a3b2d7b3a6ece03ec9db59ba9385a7199cace1b  1.093954e-02  5.990179e-04  \n",
       "0b0eb41a2e416dd93cf156632edab78e7227fab6  1.698672e-07  2.915286e-07  \n",
       "8ac7776547858abdceb1e0b055d762870adcc23a  1.060187e-02  3.083067e-02  \n",
       "ce0f7ccdb51b4a6800adab9c0668907d4665401d  1.123134e-03  4.476492e-03  \n",
       "ef42f5525ff10a18c5509dce50754018de43f532  4.044299e-05  1.152575e-03  \n",
       "\n",
       "[586 rows x 5 columns]"
      ]
     },
     "execution_count": 10,
     "metadata": {},
     "output_type": "execute_result"
    }
   ],
   "source": [
    "df"
   ]
  },
  {
   "cell_type": "code",
   "execution_count": 41,
   "id": "73594db0",
   "metadata": {},
   "outputs": [],
   "source": [
    "def find_files(filename, search_path):\n",
    "    result = []\n",
    "    \n",
    "    for root, dirs, files in os.walk(search_path):\n",
    "        #print(root)\n",
    "        if filename in files:\n",
    "            result.append(os.path.join(root, filename))\n",
    "    return result"
   ]
  },
  {
   "cell_type": "code",
   "execution_count": 42,
   "id": "fe0d89a8",
   "metadata": {},
   "outputs": [
    {
     "name": "stdout",
     "output_type": "stream",
     "text": [
      "['/home/amirmahdi/Documents/Uni/Dr Ezati/Data Challenge Track/Projects/protostuff__protostuff/protostuff-protostuff-1.5.0/protostuff-benchmarks/src/main/java/io/protostuff/benchmarks/RuntimeSchemaBenchmark.java']\n"
     ]
    }
   ],
   "source": [
    "print(find_files(\"RuntimeSchemaBenchmark.java\",\"/home/amirmahdi/Documents/Uni/Dr Ezati/Data Challenge Track/Projects/protostuff__protostuff\"))"
   ]
  },
  {
   "cell_type": "code",
   "execution_count": 62,
   "id": "9e9e21d0",
   "metadata": {
    "scrolled": true
   },
   "outputs": [
    {
     "name": "stdout",
     "output_type": "stream",
     "text": [
      "================================================\r\n",
      "  NLOC    CCN   token  PARAM  length  location  \r\n",
      "------------------------------------------------\r\n",
      "       7      1     44      1       7 RuntimeSchemaBenchmark::main@59-65@/home/amirmahdi/Documents/Uni/Dr Ezati/Data Challenge Track/Projects/protostuff__protostuff/protostuff-protostuff-1.5.0/protostuff-benchmarks/src/main/java/io/protostuff/benchmarks/RuntimeSchemaBenchmark.java\r\n",
      "      58      1    400      0      60 RuntimeSchemaBenchmark::prepare@68-127@/home/amirmahdi/Documents/Uni/Dr Ezati/Data Challenge Track/Projects/protostuff__protostuff/protostuff-protostuff-1.5.0/protostuff-benchmarks/src/main/java/io/protostuff/benchmarks/RuntimeSchemaBenchmark.java\r\n",
      "       4      1     11      0       4 RuntimeSchemaBenchmark::baseline@130-133@/home/amirmahdi/Documents/Uni/Dr Ezati/Data Challenge Track/Projects/protostuff__protostuff/protostuff-protostuff-1.5.0/protostuff-benchmarks/src/main/java/io/protostuff/benchmarks/RuntimeSchemaBenchmark.java\r\n",
      "       6      1     29      0       6 RuntimeSchemaBenchmark::runtime_deserialize_1_int_field@136-141@/home/amirmahdi/Documents/Uni/Dr Ezati/Data Challenge Track/Projects/protostuff__protostuff/protostuff-protostuff-1.5.0/protostuff-benchmarks/src/main/java/io/protostuff/benchmarks/RuntimeSchemaBenchmark.java\r\n",
      "      11      1     30      0      11 RuntimeSchemaBenchmark::runtime_serialize_1_int_field@144-154@/home/amirmahdi/Documents/Uni/Dr Ezati/Data Challenge Track/Projects/protostuff__protostuff/protostuff-protostuff-1.5.0/protostuff-benchmarks/src/main/java/io/protostuff/benchmarks/RuntimeSchemaBenchmark.java\r\n",
      "       6      1     29      0       6 RuntimeSchemaBenchmark::runtime_deserialize_10_int_field@157-162@/home/amirmahdi/Documents/Uni/Dr Ezati/Data Challenge Track/Projects/protostuff__protostuff/protostuff-protostuff-1.5.0/protostuff-benchmarks/src/main/java/io/protostuff/benchmarks/RuntimeSchemaBenchmark.java\r\n",
      "      11      1     30      0      11 RuntimeSchemaBenchmark::runtime_serialize_10_int_fields@165-175@/home/amirmahdi/Documents/Uni/Dr Ezati/Data Challenge Track/Projects/protostuff__protostuff/protostuff-protostuff-1.5.0/protostuff-benchmarks/src/main/java/io/protostuff/benchmarks/RuntimeSchemaBenchmark.java\r\n",
      "       6      1     29      0       6 RuntimeSchemaBenchmark::runtime_sparse_deserialize_1_int_field@178-183@/home/amirmahdi/Documents/Uni/Dr Ezati/Data Challenge Track/Projects/protostuff__protostuff/protostuff-protostuff-1.5.0/protostuff-benchmarks/src/main/java/io/protostuff/benchmarks/RuntimeSchemaBenchmark.java\r\n",
      "      11      1     30      0      11 RuntimeSchemaBenchmark::runtime_sparse_serialize_1_int_field@186-196@/home/amirmahdi/Documents/Uni/Dr Ezati/Data Challenge Track/Projects/protostuff__protostuff/protostuff-protostuff-1.5.0/protostuff-benchmarks/src/main/java/io/protostuff/benchmarks/RuntimeSchemaBenchmark.java\r\n",
      "       6      1     29      0       6 RuntimeSchemaBenchmark::runtime_sparse_deserialize_10_int_field@199-204@/home/amirmahdi/Documents/Uni/Dr Ezati/Data Challenge Track/Projects/protostuff__protostuff/protostuff-protostuff-1.5.0/protostuff-benchmarks/src/main/java/io/protostuff/benchmarks/RuntimeSchemaBenchmark.java\r\n",
      "      11      1     30      0      11 RuntimeSchemaBenchmark::runtime_sparse_serialize_10_int_fields@207-217@/home/amirmahdi/Documents/Uni/Dr Ezati/Data Challenge Track/Projects/protostuff__protostuff/protostuff-protostuff-1.5.0/protostuff-benchmarks/src/main/java/io/protostuff/benchmarks/RuntimeSchemaBenchmark.java\r\n",
      "       6      1     33      0       6 RuntimeSchemaBenchmark::generated_deserialize_1_int_field@220-225@/home/amirmahdi/Documents/Uni/Dr Ezati/Data Challenge Track/Projects/protostuff__protostuff/protostuff-protostuff-1.5.0/protostuff-benchmarks/src/main/java/io/protostuff/benchmarks/RuntimeSchemaBenchmark.java\r\n",
      "      11      1     30      0      11 RuntimeSchemaBenchmark::generated_serialize_1_int_field@228-238@/home/amirmahdi/Documents/Uni/Dr Ezati/Data Challenge Track/Projects/protostuff__protostuff/protostuff-protostuff-1.5.0/protostuff-benchmarks/src/main/java/io/protostuff/benchmarks/RuntimeSchemaBenchmark.java\r\n",
      "       6      1     33      0       6 RuntimeSchemaBenchmark::generated_deserialize_10_int_field@241-246@/home/amirmahdi/Documents/Uni/Dr Ezati/Data Challenge Track/Projects/protostuff__protostuff/protostuff-protostuff-1.5.0/protostuff-benchmarks/src/main/java/io/protostuff/benchmarks/RuntimeSchemaBenchmark.java\r\n",
      "      11      1     30      0      11 RuntimeSchemaBenchmark::generated_serialize_10_int_field@249-259@/home/amirmahdi/Documents/Uni/Dr Ezati/Data Challenge Track/Projects/protostuff__protostuff/protostuff-protostuff-1.5.0/protostuff-benchmarks/src/main/java/io/protostuff/benchmarks/RuntimeSchemaBenchmark.java\r\n",
      "1 file analyzed.\r\n",
      "==============================================================\r\n",
      "NLOC    Avg.NLOC  AvgCCN  Avg.token  function_cnt    file\r\n",
      "--------------------------------------------------------------\r\n",
      "    277      11.4     1.0       54.5        15     /home/amirmahdi/Documents/Uni/Dr Ezati/Data Challenge Track/Projects/protostuff__protostuff/protostuff-protostuff-1.5.0/protostuff-benchmarks/src/main/java/io/protostuff/benchmarks/RuntimeSchemaBenchmark.java\r\n",
      "\r\n",
      "===============================================================================================================\r\n",
      "No thresholds exceeded (cyclomatic_complexity > 15 or length > 1000 or nloc > 1000000 or parameter_count > 100)\r\n",
      "==========================================================================================\r\n",
      "Total nloc   Avg.NLOC  AvgCCN  Avg.token   Fun Cnt  Warning cnt   Fun Rt   nloc Rt\r\n",
      "------------------------------------------------------------------------------------------\r\n",
      "       277      11.4     1.0       54.5       15            0      0.00    0.00\r\n"
     ]
    }
   ],
   "source": [
    "search_path_base = \"/home/amirmahdi/Documents/Uni/Dr Ezati/Data Challenge Track/Projects\"\n",
    "r=[]\n",
    "for filename in filesname:\n",
    "    benchmark_name = filesname[0].split(\"#\")[1].split(\".\")[-2]+\".java\"\n",
    "    benchmark_method = filesname[0].split(\"#\")[1].split(\".\")[-1]\n",
    "    project_name = filesname[0].split(\"#\")[0] #\n",
    "    search_path = os.path.join(search_path_base, project_name)\n",
    "    benchmark_dir = find_files(benchmark_name, search_path)[0]\n",
    "    \n",
    "    Bench_anlysis = lizard.analyze_file(benchmark_dir)\n",
    "    bench_file_nloc = list(i.__dict__.values())[1] #\n",
    "    bench_file_ccn = []\n",
    "    for j in range(len(i.function_list)):\n",
    "        bench_file_ccn.append(dict(i.function_list[j].__dict__)['cyclomatic_complexity'])\n",
    "        if dict(i.function_list[j].__dict__)[\"name\"].split(\"::\")[1] == benchmark_method:\n",
    "            bench_nloc = dict(i.function_list[j].__dict__)[\"nloc\"] #\n",
    "            bench_ccn = dict(i.function_list[j].__dict__)['cyclomatic_complexity'] #\n",
    "            bench_nesting_level = dict(i.function_list[j].__dict__)['top_nesting_level'] #\n",
    "    bench_file_cnn_avrg = np.mean(bench_file_ccn) #"
   ]
  },
  {
   "cell_type": "code",
   "execution_count": null,
   "id": "57067437",
   "metadata": {},
   "outputs": [],
   "source": []
  },
  {
   "cell_type": "code",
   "execution_count": 101,
   "id": "e6684470",
   "metadata": {},
   "outputs": [
    {
     "name": "stdout",
     "output_type": "stream",
     "text": [
      "6\n"
     ]
    }
   ],
   "source": [
    "for j in range(len(i.function_list)):\n",
    "    if dict(i.function_list[j].__dict__)[\"name\"].split(\"::\")[1] == \"runtime_deserialize_1_int_field\":\n",
    "        bench_method_nloc = dict(i.function_list[j].__dict__)[\"nloc\"]\n",
    "        print(bench_method_nloc)\n",
    "    "
   ]
  },
  {
   "cell_type": "code",
   "execution_count": 106,
   "id": "50d9d2ba",
   "metadata": {},
   "outputs": [
    {
     "name": "stdout",
     "output_type": "stream",
     "text": [
      "dict_keys(['cyclomatic_complexity', 'nloc', 'token_count', 'name', 'long_name', 'start_line', 'end_line', 'full_parameters', 'filename', 'top_nesting_level', 'fan_in', 'fan_out', 'general_fan_out']) \n",
      "\n",
      "RuntimeSchemaBenchmark::main( String [ ] args) \n",
      "\n",
      "['String [ ] args'] \n",
      "\n",
      "1 \n",
      "\n"
     ]
    }
   ],
   "source": [
    "for j in range(len(i.function_list)):\n",
    "    print(dict(i.function_list[j].__dict__).keys(), \"\\n\")\n",
    "    print(dict(i.function_list[j].__dict__)['long_name'], \"\\n\")\n",
    "    print(dict(i.function_list[j].__dict__)['full_parameters'], \"\\n\")\n",
    "    print(dict(i.function_list[j].__dict__)['top_nesting_level'], \"\\n\")\n",
    "    break"
   ]
  }
 ],
 "metadata": {
  "kernelspec": {
   "display_name": "Python 3 (ipykernel)",
   "language": "python",
   "name": "python3"
  },
  "language_info": {
   "codemirror_mode": {
    "name": "ipython",
    "version": 3
   },
   "file_extension": ".py",
   "mimetype": "text/x-python",
   "name": "python",
   "nbconvert_exporter": "python",
   "pygments_lexer": "ipython3",
   "version": "3.8.8"
  }
 },
 "nbformat": 4,
 "nbformat_minor": 5
}
